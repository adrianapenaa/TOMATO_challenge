{
 "cells": [
  {
   "cell_type": "markdown",
   "id": "cbcf10b4-b8ba-4232-bf71-5b0b6d81b513",
   "metadata": {},
   "source": [
    "# Part 1: Data Exploration"
   ]
  },
  {
   "cell_type": "markdown",
   "id": "8d6830ba-ece4-45f3-9707-c132f0f0cf20",
   "metadata": {},
   "source": [
    "In this notebook you will perform your:\n",
    "- data cleaning\n",
    "- data exploration\n",
    "- feature engineering\n",
    "\n",
    "There is no one, correct, way to structure this notebook and so you may build this notebook out in whatever way is most conducive towards your preferences. At the very minimum, notebook should read in the raw data and output to .csv format your cleaned and prepared data."
   ]
  },
  {
   "cell_type": "markdown",
   "id": "d1c57f70-6eb2-487f-a5a1-cd6adf7f0ed9",
   "metadata": {},
   "source": [
    "To start you off, the variable df has been pre-loaded to have your training dataset. **This is the data that you will use to train and test your model. The file labled \"test.tsv\" should only be used at the very end of the challenge for your final performance evaluation!** If you would like to know more about this data you can go [here](https://www.kaggle.com/c/sentiment-analysis-on-movie-reviews/overview). We encourage you to look at the 'Overview' and 'Data' tabs; however, we encourage you also to not look at community submissions and to develop your own unique solution from your own research!"
   ]
  },
  {
   "cell_type": "code",
   "execution_count": 1,
   "id": "37517385-a40d-4e72-8918-b5b989302223",
   "metadata": {},
   "outputs": [
    {
     "data": {
      "text/html": [
       "<div>\n",
       "<style scoped>\n",
       "    .dataframe tbody tr th:only-of-type {\n",
       "        vertical-align: middle;\n",
       "    }\n",
       "\n",
       "    .dataframe tbody tr th {\n",
       "        vertical-align: top;\n",
       "    }\n",
       "\n",
       "    .dataframe thead th {\n",
       "        text-align: right;\n",
       "    }\n",
       "</style>\n",
       "<table border=\"1\" class=\"dataframe\">\n",
       "  <thead>\n",
       "    <tr style=\"text-align: right;\">\n",
       "      <th></th>\n",
       "      <th>Unnamed: 0</th>\n",
       "      <th>PhraseId</th>\n",
       "      <th>SentenceId</th>\n",
       "      <th>Phrase</th>\n",
       "      <th>Sentiment</th>\n",
       "    </tr>\n",
       "  </thead>\n",
       "  <tbody>\n",
       "    <tr>\n",
       "      <th>0</th>\n",
       "      <td>0</td>\n",
       "      <td>1</td>\n",
       "      <td>1</td>\n",
       "      <td>A series of escapades demonstrating the adage ...</td>\n",
       "      <td>1</td>\n",
       "    </tr>\n",
       "    <tr>\n",
       "      <th>1</th>\n",
       "      <td>1</td>\n",
       "      <td>2</td>\n",
       "      <td>1</td>\n",
       "      <td>A series of escapades demonstrating the adage ...</td>\n",
       "      <td>2</td>\n",
       "    </tr>\n",
       "    <tr>\n",
       "      <th>2</th>\n",
       "      <td>2</td>\n",
       "      <td>3</td>\n",
       "      <td>1</td>\n",
       "      <td>A series</td>\n",
       "      <td>2</td>\n",
       "    </tr>\n",
       "    <tr>\n",
       "      <th>3</th>\n",
       "      <td>3</td>\n",
       "      <td>4</td>\n",
       "      <td>1</td>\n",
       "      <td>A</td>\n",
       "      <td>2</td>\n",
       "    </tr>\n",
       "    <tr>\n",
       "      <th>4</th>\n",
       "      <td>4</td>\n",
       "      <td>5</td>\n",
       "      <td>1</td>\n",
       "      <td>series</td>\n",
       "      <td>2</td>\n",
       "    </tr>\n",
       "  </tbody>\n",
       "</table>\n",
       "</div>"
      ],
      "text/plain": [
       "   Unnamed: 0  PhraseId  SentenceId  \\\n",
       "0           0         1           1   \n",
       "1           1         2           1   \n",
       "2           2         3           1   \n",
       "3           3         4           1   \n",
       "4           4         5           1   \n",
       "\n",
       "                                              Phrase  Sentiment  \n",
       "0  A series of escapades demonstrating the adage ...          1  \n",
       "1  A series of escapades demonstrating the adage ...          2  \n",
       "2                                           A series          2  \n",
       "3                                                  A          2  \n",
       "4                                             series          2  "
      ]
     },
     "execution_count": 1,
     "metadata": {},
     "output_type": "execute_result"
    }
   ],
   "source": [
    "import sys\n",
    "import pandas as pd\n",
    "\n",
    "# when it comes time to evaluate the model for final scoring, just change this to test.tsv!\n",
    "df = pd.read_csv('train.csv')\n",
    "#df = pd.read_csv('test.csv')\n",
    "df.head()"
   ]
  },
  {
   "cell_type": "markdown",
   "id": "d931f409-01c6-4c03-ad3a-5cd30edbfede",
   "metadata": {
    "tags": []
   },
   "source": [
    "One final note: if you are looking for files you export from this notebook, by default (if you don't otherwise assign the path) any files output from this notebook will be placed in the code directory! Good luck on BYTES Challenge II!!"
   ]
  },
  {
   "cell_type": "code",
   "execution_count": 2,
   "id": "296f7ae6-93cc-402c-829c-71edb5f703a2",
   "metadata": {},
   "outputs": [],
   "source": [
    "# imports for data visualization \n",
    "import seaborn as sns\n",
    "import matplotlib.pyplot as plt\n",
    "import re"
   ]
  },
  {
   "cell_type": "code",
   "execution_count": 3,
   "id": "a7f39d04-e306-4275-b55c-a3d06afc5a3a",
   "metadata": {},
   "outputs": [
    {
     "data": {
      "text/plain": [
       "Text(0.5, 1.0, 'Distribution of Ratings')"
      ]
     },
     "execution_count": 3,
     "metadata": {},
     "output_type": "execute_result"
    },
    {
     "data": {
      "image/png": "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\n",
      "text/plain": [
       "<Figure size 720x432 with 1 Axes>"
      ]
     },
     "metadata": {},
     "output_type": "display_data"
    }
   ],
   "source": [
    "# Data Visualization #\n",
    "visual = df.Sentiment.value_counts()\n",
    "visual = pd.DataFrame(visual)\n",
    "visual['Rating'] = visual.index\n",
    "sns.set_style(\"darkgrid\", {\"axes.facecolor\": \".8\"})\n",
    "fig, ax = plt.subplots(figsize=(10,6))\n",
    "sns.barplot(y='Sentiment', x='Rating', data=visual)\n",
    "plt.ylabel('Count')\n",
    "plt.title('Distribution of Ratings')"
   ]
  },
  {
   "cell_type": "code",
   "execution_count": 4,
   "id": "22c51e83-a310-431e-98e4-c7beff9891e5",
   "metadata": {},
   "outputs": [],
   "source": [
    "# function for printing out and testing sentences\n",
    "\n",
    "def print_sentence(df, sentence_id=None):\n",
    "    if not sentence_id:\n",
    "        print(\"No ID given\")\n",
    "    print(\"Sentence ID = {}\".format(sentence_id))\n",
    "    return df[df.SentenceId == sentence_id].iloc[:].Phrase\n",
    "\n",
    "#print_sentence(df, sentence_id= 516)"
   ]
  },
  {
   "cell_type": "code",
   "execution_count": 5,
   "id": "adc5b457-2c28-48cb-9703-a052b52c6f74",
   "metadata": {},
   "outputs": [],
   "source": [
    "# imports for data cleaning\n",
    "\n",
    "import nltk "
   ]
  },
  {
   "cell_type": "code",
   "execution_count": 6,
   "id": "c5dabfca-bc8e-43c7-bc3b-8e6346c4eb2a",
   "metadata": {},
   "outputs": [],
   "source": [
    "# Data Cleaning #\n",
    "\n",
    "# Remove unnecessary column\n",
    "df = df.drop(['Unnamed: 0'], axis=1) \n",
    "\n",
    "# Change uppercase to lowercase letters\n",
    "df['Phrase'] = df['Phrase'].str.lower()\n",
    "\n",
    "# Remove characters that are not letters or digits\n",
    "df['Phrase'] = df['Phrase'].apply((lambda x: re.sub('[^a-zA-z0-9\\s]','',x)))\n",
    
   ]
  },
  {
   "cell_type": "code",
   "execution_count": 7,
   "id": "c34b0b6e-b0ee-438c-9b99-d13d6225d845",
   "metadata": {},
   "outputs": [
    {
     "name": "stderr",
     "output_type": "stream",
     "text": [
      "[nltk_data] Downloading package stopwords to\n",
      "[nltk_data]     /home/giguser/nltk_data...\n",
      "[nltk_data]   Package stopwords is already up-to-date!\n"
     ]
    }
   ],
   "source": [
    "# clean out stopwords; a.k.a words that do not add much meaning to a sentence \n",
    "\n",
    "from nltk.corpus import stopwords\n",
    "nltk.download('stopwords')\n",
    "\n",
    "stop_words = set(stopwords.words('english'))\n",
    "neg = ['no', 'not']\n",
    "stop_words.difference_update(neg)\n"
   ]
  },
  {
   "cell_type": "code",
   "execution_count": 9,
   "id": "189b1478-d4dd-43c7-a274-8e746d321360",
   "metadata": {},
   "outputs": [],
   "source": [
    "def text_cleaning(text):\n",
    "    if text:\n",
    "        text = [word for word in text.split() if word not in stop_words]\n",
    "        return text\n",
    "    return []\n",
    "\n",
    "df['Phrase'] = df['Phrase'].apply(lambda x: ' '.join(text_cleaning(x)))"
   ]
  },
  {
   "cell_type": "code",
   "execution_count": 10,
   "id": "0b4e6ad1-6178-4d7f-94b2-dd74453e5339",
   "metadata": {},
   "outputs": [],
   "source": [
    "# export training dataframe as a CSV file\n",
    "df.to_csv(\"cleaned_train_data.csv\", index = False)\n",
    "\n",
    "# export testing dataframe as a CSV file\n",
    "#df.to_csv(\"cleaned_test_data.csv\", index = False)"
   ]
  },
  {
   "cell_type": "code",
   "execution_count": null,
   "id": "22e8e957-e8b7-4518-8c61-f544a034bb56",
   "metadata": {},
   "outputs": [],
   "source": []
  }
 ],
 "metadata": {
  "kernelspec": {
   "display_name": "Python 3",
   "language": "python",
   "name": "python3"
  },
  "language_info": {
   "codemirror_mode": {
    "name": "ipython",
    "version": 3
   },
   "file_extension": ".py",
   "mimetype": "text/x-python",
   "name": "python",
   "nbconvert_exporter": "python",
   "pygments_lexer": "ipython3",
   "version": "3.8.8"
  }
 },
 "nbformat": 4,
 "nbformat_minor": 5
}
